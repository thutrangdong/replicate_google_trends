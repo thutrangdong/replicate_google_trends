{
 "cells": [
  {
   "cell_type": "code",
   "execution_count": 83,
   "metadata": {
    "collapsed": true
   },
   "outputs": [],
   "source": [
    "import pandas as pd\n",
    "from pandas_datareader import data\n",
    "import numpy as np\n",
    "import datetime\n",
    "import csv\n",
    "\n",
    "import matplotlib as plt\n",
    "from matplotlib import figure\n",
    "\n",
    "%matplotlib inline\n",
    "import warnings\n",
    "warnings.filterwarnings('ignore')\n",
    "\n",
    "delta_t = 3"
   ]
  },
  {
   "cell_type": "code",
   "execution_count": 84,
   "metadata": {
    "collapsed": true
   },
   "outputs": [],
   "source": [
    "djia = pd.read_csv('DJIA.csv', index_col='DATE')\n",
    "#sp500 = pd.DataFrame(data.DataReader(\"^GSPC\", \"yahoo\", start=datetime.datetime(2004, 1, 1), end=datetime.datetime(2011, 4, 1))['Adj Close'], columns=['sp500'])\n",
    "debt = pd.read_csv('debt_google_trend.csv', index_col='date')"
   ]
  },
  {
   "cell_type": "code",
   "execution_count": 85,
   "metadata": {},
   "outputs": [],
   "source": [
    "djia.index = pd.to_datetime(djia.index)\n",
    "\n",
    "djia.rename(columns={'VALUE': 'djia'}, inplace=True)\n",
    "debt.index = pd.to_datetime(debt.index)\n",
    "debt = debt.tshift(2, freq='D') # Moves Saturday to Monday\n",
    "\n",
    "# Load Preis data\n",
    "df = pd.read_csv('PreisMoatStanley_ScientificReports_3_1684_2013.csv', delimiter=';')\n",
    "columns = ['Google;Start;Date', 'Google;End;Date', 'debt', 'DJIA;Date', 'DJIA;Closing;Price']\n",
    "df = df[columns]\n",
    "debt_from_study = df[['debt', 'DJIA;Closing;Price']]\n",
    "debt_from_study.rename(columns={'debt': 'debt_preis', 'DJIA;Closing;Price': 'djia_preis'}, inplace=True)\n",
    "debt_from_study.index = df['Google;End;Date']\n",
    "\n",
    "debt_from_study.index = debt_from_study.index.to_datetime()\n",
    "debt_from_study.index = pd.to_datetime(debt_from_study.index)\n",
    "\n",
    "debt_from_study = debt_from_study.tshift(2, freq='D') # Move from Sat to Monday"
   ]
  },
  {
   "cell_type": "code",
   "execution_count": 86,
   "metadata": {},
   "outputs": [
    {
     "data": {
      "text/html": [
       "<div>\n",
       "<style>\n",
       "    .dataframe thead tr:only-child th {\n",
       "        text-align: right;\n",
       "    }\n",
       "\n",
       "    .dataframe thead th {\n",
       "        text-align: left;\n",
       "    }\n",
       "\n",
       "    .dataframe tbody tr th {\n",
       "        vertical-align: top;\n",
       "    }\n",
       "</style>\n",
       "<table border=\"1\" class=\"dataframe\">\n",
       "  <thead>\n",
       "    <tr style=\"text-align: right;\">\n",
       "      <th></th>\n",
       "      <th>debt</th>\n",
       "      <th>debt_preis</th>\n",
       "      <th>djia_preis</th>\n",
       "    </tr>\n",
       "    <tr>\n",
       "      <th>date</th>\n",
       "      <th></th>\n",
       "      <th></th>\n",
       "      <th></th>\n",
       "    </tr>\n",
       "  </thead>\n",
       "  <tbody>\n",
       "    <tr>\n",
       "      <th>2004-01-12</th>\n",
       "      <td>35.0</td>\n",
       "      <td>0.210000</td>\n",
       "      <td>10485.18</td>\n",
       "    </tr>\n",
       "    <tr>\n",
       "      <th>2004-01-19</th>\n",
       "      <td>36.0</td>\n",
       "      <td>0.210000</td>\n",
       "      <td>10528.66</td>\n",
       "    </tr>\n",
       "    <tr>\n",
       "      <th>2004-01-26</th>\n",
       "      <td>36.0</td>\n",
       "      <td>0.210000</td>\n",
       "      <td>10702.51</td>\n",
       "    </tr>\n",
       "    <tr>\n",
       "      <th>2004-02-02</th>\n",
       "      <td>37.0</td>\n",
       "      <td>0.213333</td>\n",
       "      <td>10499.18</td>\n",
       "    </tr>\n",
       "    <tr>\n",
       "      <th>2004-02-09</th>\n",
       "      <td>37.0</td>\n",
       "      <td>0.200000</td>\n",
       "      <td>10579.03</td>\n",
       "    </tr>\n",
       "  </tbody>\n",
       "</table>\n",
       "</div>"
      ],
      "text/plain": [
       "            debt  debt_preis  djia_preis\n",
       "date                                    \n",
       "2004-01-12  35.0    0.210000    10485.18\n",
       "2004-01-19  36.0    0.210000    10528.66\n",
       "2004-01-26  36.0    0.210000    10702.51\n",
       "2004-02-02  37.0    0.213333    10499.18\n",
       "2004-02-09  37.0    0.200000    10579.03"
      ]
     },
     "execution_count": 86,
     "metadata": {},
     "output_type": "execute_result"
    }
   ],
   "source": [
    "data = pd.concat([debt, debt_from_study], axis=1).dropna()\n",
    "data.head()"
   ]
  },
  {
   "cell_type": "code",
   "execution_count": 87,
   "metadata": {},
   "outputs": [
    {
     "data": {
      "text/plain": [
       "<matplotlib.axes._subplots.AxesSubplot at 0x10f27da20>"
      ]
     },
     "execution_count": 87,
     "metadata": {},
     "output_type": "execute_result"
    },
    {
     "data": {
      "image/png": "[encoded data removed]",
      "text/plain": [
       "<matplotlib.figure.Figure at 0x10f28fd30>"
      ]
     },
     "metadata": {},
     "output_type": "display_data"
    }
   ],
   "source": [
    "data.debt.plot()\n",
    "data.debt_preis.plot(secondary_y=True)"
   ]
  },
  {
   "cell_type": "code",
   "execution_count": 88,
   "metadata": {},
   "outputs": [
    {
     "data": {
      "text/html": [
       "<div>\n",
       "<style>\n",
       "    .dataframe thead tr:only-child th {\n",
       "        text-align: right;\n",
       "    }\n",
       "\n",
       "    .dataframe thead th {\n",
       "        text-align: left;\n",
       "    }\n",
       "\n",
       "    .dataframe tbody tr th {\n",
       "        vertical-align: top;\n",
       "    }\n",
       "</style>\n",
       "<table border=\"1\" class=\"dataframe\">\n",
       "  <thead>\n",
       "    <tr style=\"text-align: right;\">\n",
       "      <th></th>\n",
       "      <th>debt</th>\n",
       "      <th>debt_preis</th>\n",
       "      <th>djia_preis</th>\n",
       "      <th>rolling_mean_debt</th>\n",
       "      <th>rolling_mean_debt_preis</th>\n",
       "    </tr>\n",
       "    <tr>\n",
       "      <th>date</th>\n",
       "      <th></th>\n",
       "      <th></th>\n",
       "      <th></th>\n",
       "      <th></th>\n",
       "      <th></th>\n",
       "    </tr>\n",
       "  </thead>\n",
       "  <tbody>\n",
       "    <tr>\n",
       "      <th>2004-01-12</th>\n",
       "      <td>35.0</td>\n",
       "      <td>0.210000</td>\n",
       "      <td>10485.18</td>\n",
       "      <td>NaN</td>\n",
       "      <td>NaN</td>\n",
       "    </tr>\n",
       "    <tr>\n",
       "      <th>2004-01-19</th>\n",
       "      <td>36.0</td>\n",
       "      <td>0.210000</td>\n",
       "      <td>10528.66</td>\n",
       "      <td>NaN</td>\n",
       "      <td>NaN</td>\n",
       "    </tr>\n",
       "    <tr>\n",
       "      <th>2004-01-26</th>\n",
       "      <td>36.0</td>\n",
       "      <td>0.210000</td>\n",
       "      <td>10702.51</td>\n",
       "      <td>NaN</td>\n",
       "      <td>NaN</td>\n",
       "    </tr>\n",
       "    <tr>\n",
       "      <th>2004-02-02</th>\n",
       "      <td>37.0</td>\n",
       "      <td>0.213333</td>\n",
       "      <td>10499.18</td>\n",
       "      <td>35.666667</td>\n",
       "      <td>0.210000</td>\n",
       "    </tr>\n",
       "    <tr>\n",
       "      <th>2004-02-09</th>\n",
       "      <td>37.0</td>\n",
       "      <td>0.200000</td>\n",
       "      <td>10579.03</td>\n",
       "      <td>36.333333</td>\n",
       "      <td>0.211111</td>\n",
       "    </tr>\n",
       "  </tbody>\n",
       "</table>\n",
       "</div>"
      ],
      "text/plain": [
       "            debt  debt_preis  djia_preis  rolling_mean_debt  \\\n",
       "date                                                          \n",
       "2004-01-12  35.0    0.210000    10485.18                NaN   \n",
       "2004-01-19  36.0    0.210000    10528.66                NaN   \n",
       "2004-01-26  36.0    0.210000    10702.51                NaN   \n",
       "2004-02-02  37.0    0.213333    10499.18          35.666667   \n",
       "2004-02-09  37.0    0.200000    10579.03          36.333333   \n",
       "\n",
       "            rolling_mean_debt_preis  \n",
       "date                                 \n",
       "2004-01-12                      NaN  \n",
       "2004-01-19                      NaN  \n",
       "2004-01-26                      NaN  \n",
       "2004-02-02                 0.210000  \n",
       "2004-02-09                 0.211111  "
      ]
     },
     "execution_count": 88,
     "metadata": {},
     "output_type": "execute_result"
    }
   ],
   "source": [
    "data['rolling_mean_debt'] = pd.rolling_mean(data.debt, delta_t).shift(1)\n",
    "data['rolling_mean_debt_preis'] = pd.rolling_mean(data.debt_preis, delta_t).shift(1)\n",
    "data.head(5)"
   ]
  },
  {
   "cell_type": "code",
   "execution_count": 89,
   "metadata": {},
   "outputs": [
    {
     "data": {
      "text/html": [
       "<div>\n",
       "<style>\n",
       "    .dataframe thead tr:only-child th {\n",
       "        text-align: right;\n",
       "    }\n",
       "\n",
       "    .dataframe thead th {\n",
       "        text-align: left;\n",
       "    }\n",
       "\n",
       "    .dataframe tbody tr th {\n",
       "        vertical-align: top;\n",
       "    }\n",
       "</style>\n",
       "<table border=\"1\" class=\"dataframe\">\n",
       "  <thead>\n",
       "    <tr style=\"text-align: right;\">\n",
       "      <th></th>\n",
       "      <th>debt</th>\n",
       "      <th>debt_preis</th>\n",
       "      <th>djia_preis</th>\n",
       "      <th>rolling_mean_debt</th>\n",
       "      <th>rolling_mean_debt_preis</th>\n",
       "      <th>order</th>\n",
       "      <th>order_preis</th>\n",
       "    </tr>\n",
       "    <tr>\n",
       "      <th>date</th>\n",
       "      <th></th>\n",
       "      <th></th>\n",
       "      <th></th>\n",
       "      <th></th>\n",
       "      <th></th>\n",
       "      <th></th>\n",
       "      <th></th>\n",
       "    </tr>\n",
       "  </thead>\n",
       "  <tbody>\n",
       "    <tr>\n",
       "      <th>2004-01-12</th>\n",
       "      <td>35.0</td>\n",
       "      <td>0.210000</td>\n",
       "      <td>10485.18</td>\n",
       "      <td>NaN</td>\n",
       "      <td>NaN</td>\n",
       "      <td>0</td>\n",
       "      <td>0</td>\n",
       "    </tr>\n",
       "    <tr>\n",
       "      <th>2004-01-19</th>\n",
       "      <td>36.0</td>\n",
       "      <td>0.210000</td>\n",
       "      <td>10528.66</td>\n",
       "      <td>NaN</td>\n",
       "      <td>NaN</td>\n",
       "      <td>0</td>\n",
       "      <td>0</td>\n",
       "    </tr>\n",
       "    <tr>\n",
       "      <th>2004-01-26</th>\n",
       "      <td>36.0</td>\n",
       "      <td>0.210000</td>\n",
       "      <td>10702.51</td>\n",
       "      <td>NaN</td>\n",
       "      <td>NaN</td>\n",
       "      <td>0</td>\n",
       "      <td>0</td>\n",
       "    </tr>\n",
       "    <tr>\n",
       "      <th>2004-02-02</th>\n",
       "      <td>37.0</td>\n",
       "      <td>0.213333</td>\n",
       "      <td>10499.18</td>\n",
       "      <td>35.666667</td>\n",
       "      <td>0.210000</td>\n",
       "      <td>0</td>\n",
       "      <td>-1</td>\n",
       "    </tr>\n",
       "    <tr>\n",
       "      <th>2004-02-09</th>\n",
       "      <td>37.0</td>\n",
       "      <td>0.200000</td>\n",
       "      <td>10579.03</td>\n",
       "      <td>36.333333</td>\n",
       "      <td>0.211111</td>\n",
       "      <td>-1</td>\n",
       "      <td>1</td>\n",
       "    </tr>\n",
       "    <tr>\n",
       "      <th>2004-02-16</th>\n",
       "      <td>37.0</td>\n",
       "      <td>0.203333</td>\n",
       "      <td>10714.88</td>\n",
       "      <td>36.666667</td>\n",
       "      <td>0.207778</td>\n",
       "      <td>-1</td>\n",
       "      <td>1</td>\n",
       "    </tr>\n",
       "    <tr>\n",
       "      <th>2004-02-23</th>\n",
       "      <td>35.0</td>\n",
       "      <td>0.200000</td>\n",
       "      <td>10609.62</td>\n",
       "      <td>37.000000</td>\n",
       "      <td>0.205555</td>\n",
       "      <td>1</td>\n",
       "      <td>1</td>\n",
       "    </tr>\n",
       "    <tr>\n",
       "      <th>2004-03-01</th>\n",
       "      <td>35.0</td>\n",
       "      <td>0.200000</td>\n",
       "      <td>10678.14</td>\n",
       "      <td>36.333333</td>\n",
       "      <td>0.201111</td>\n",
       "      <td>1</td>\n",
       "      <td>1</td>\n",
       "    </tr>\n",
       "    <tr>\n",
       "      <th>2004-03-08</th>\n",
       "      <td>34.0</td>\n",
       "      <td>0.196667</td>\n",
       "      <td>10529.48</td>\n",
       "      <td>35.666667</td>\n",
       "      <td>0.201111</td>\n",
       "      <td>1</td>\n",
       "      <td>1</td>\n",
       "    </tr>\n",
       "    <tr>\n",
       "      <th>2004-03-15</th>\n",
       "      <td>34.0</td>\n",
       "      <td>0.196667</td>\n",
       "      <td>10102.89</td>\n",
       "      <td>34.666667</td>\n",
       "      <td>0.198889</td>\n",
       "      <td>1</td>\n",
       "      <td>1</td>\n",
       "    </tr>\n",
       "  </tbody>\n",
       "</table>\n",
       "</div>"
      ],
      "text/plain": [
       "            debt  debt_preis  djia_preis  rolling_mean_debt  \\\n",
       "date                                                          \n",
       "2004-01-12  35.0    0.210000    10485.18                NaN   \n",
       "2004-01-19  36.0    0.210000    10528.66                NaN   \n",
       "2004-01-26  36.0    0.210000    10702.51                NaN   \n",
       "2004-02-02  37.0    0.213333    10499.18          35.666667   \n",
       "2004-02-09  37.0    0.200000    10579.03          36.333333   \n",
       "2004-02-16  37.0    0.203333    10714.88          36.666667   \n",
       "2004-02-23  35.0    0.200000    10609.62          37.000000   \n",
       "2004-03-01  35.0    0.200000    10678.14          36.333333   \n",
       "2004-03-08  34.0    0.196667    10529.48          35.666667   \n",
       "2004-03-15  34.0    0.196667    10102.89          34.666667   \n",
       "\n",
       "            rolling_mean_debt_preis  order  order_preis  \n",
       "date                                                     \n",
       "2004-01-12                      NaN      0            0  \n",
       "2004-01-19                      NaN      0            0  \n",
       "2004-01-26                      NaN      0            0  \n",
       "2004-02-02                 0.210000      0           -1  \n",
       "2004-02-09                 0.211111     -1            1  \n",
       "2004-02-16                 0.207778     -1            1  \n",
       "2004-02-23                 0.205555      1            1  \n",
       "2004-03-01                 0.201111      1            1  \n",
       "2004-03-08                 0.201111      1            1  \n",
       "2004-03-15                 0.198889      1            1  "
      ]
     },
     "execution_count": 89,
     "metadata": {},
     "output_type": "execute_result"
    }
   ],
   "source": [
    "data['order'] = 0\n",
    "data['order'][data.debt > data.rolling_mean_debt.shift(1)] = -1 # Sell\n",
    "data['order'][data.debt < data.rolling_mean_debt.shift(1)] = 1 # Buy\n",
    "data['order'].ix[:delta_t] = 0\n",
    "\n",
    "data['order_preis'] = 1\n",
    "data['order_preis'][data.debt_preis > data.rolling_mean_debt_preis] = -1 # Sell\n",
    "data['order_preis'][data.debt_preis < data.rolling_mean_debt_preis] = 1 # Buy\n",
    "data['order_preis'].ix[:delta_t] = 0\n",
    "\n",
    "data.head(10)"
   ]
  },
  {
   "cell_type": "code",
   "execution_count": 90,
   "metadata": {},
   "outputs": [
    {
     "name": "stdout",
     "output_type": "stream",
     "text": [
      "% of overlapping trading signals from Preis debt data and newly retrieved search data:  0.707774798928\n"
     ]
    }
   ],
   "source": [
    "print (\"% of overlapping trading signals from Preis debt data and newly retrieved search data: \",\n",
    "       (data.order == data.order_preis).mean())"
   ]
  },
  {
   "cell_type": "code",
   "execution_count": null,
   "metadata": {},
   "outputs": [],
   "source": []
  },
  {
   "cell_type": "markdown",
   "metadata": {},
   "source": [
    "From the paper:\n",
    "\"If we take a ‘short position’—selling at the closing price p(t) and buying back at price p(t + 1)—then the cumulative return R changes by log(p(t)) − log(p(t + 1)). If we take a ‘long position’—buying at the closing price p(t) and selling at price p(t + 1)—then the cumulative return R changes by log(p(t + 1)) − log(p(t)).\""
   ]
  },
  {
   "cell_type": "code",
   "execution_count": 91,
   "metadata": {},
   "outputs": [
    {
     "data": {
      "text/html": [
       "<div>\n",
       "<style>\n",
       "    .dataframe thead tr:only-child th {\n",
       "        text-align: right;\n",
       "    }\n",
       "\n",
       "    .dataframe thead th {\n",
       "        text-align: left;\n",
       "    }\n",
       "\n",
       "    .dataframe tbody tr th {\n",
       "        vertical-align: top;\n",
       "    }\n",
       "</style>\n",
       "<table border=\"1\" class=\"dataframe\">\n",
       "  <thead>\n",
       "    <tr style=\"text-align: right;\">\n",
       "      <th></th>\n",
       "      <th>debt</th>\n",
       "      <th>debt_preis</th>\n",
       "      <th>djia_preis</th>\n",
       "      <th>rolling_mean_debt</th>\n",
       "      <th>rolling_mean_debt_preis</th>\n",
       "      <th>order</th>\n",
       "      <th>order_preis</th>\n",
       "      <th>log_returns</th>\n",
       "      <th>log_returns_new_data</th>\n",
       "    </tr>\n",
       "    <tr>\n",
       "      <th>date</th>\n",
       "      <th></th>\n",
       "      <th></th>\n",
       "      <th></th>\n",
       "      <th></th>\n",
       "      <th></th>\n",
       "      <th></th>\n",
       "      <th></th>\n",
       "      <th></th>\n",
       "      <th></th>\n",
       "    </tr>\n",
       "  </thead>\n",
       "  <tbody>\n",
       "    <tr>\n",
       "      <th>2004-01-12</th>\n",
       "      <td>35.0</td>\n",
       "      <td>0.210000</td>\n",
       "      <td>10485.18</td>\n",
       "      <td>NaN</td>\n",
       "      <td>NaN</td>\n",
       "      <td>0</td>\n",
       "      <td>0</td>\n",
       "      <td>0.000000</td>\n",
       "      <td>0.00000</td>\n",
       "    </tr>\n",
       "    <tr>\n",
       "      <th>2004-01-19</th>\n",
       "      <td>36.0</td>\n",
       "      <td>0.210000</td>\n",
       "      <td>10528.66</td>\n",
       "      <td>NaN</td>\n",
       "      <td>NaN</td>\n",
       "      <td>0</td>\n",
       "      <td>0</td>\n",
       "      <td>0.000000</td>\n",
       "      <td>0.00000</td>\n",
       "    </tr>\n",
       "    <tr>\n",
       "      <th>2004-01-26</th>\n",
       "      <td>36.0</td>\n",
       "      <td>0.210000</td>\n",
       "      <td>10702.51</td>\n",
       "      <td>NaN</td>\n",
       "      <td>NaN</td>\n",
       "      <td>0</td>\n",
       "      <td>0</td>\n",
       "      <td>0.000000</td>\n",
       "      <td>0.00000</td>\n",
       "    </tr>\n",
       "    <tr>\n",
       "      <th>2004-02-02</th>\n",
       "      <td>37.0</td>\n",
       "      <td>0.213333</td>\n",
       "      <td>10499.18</td>\n",
       "      <td>35.666667</td>\n",
       "      <td>0.210000</td>\n",
       "      <td>0</td>\n",
       "      <td>-1</td>\n",
       "      <td>-0.007577</td>\n",
       "      <td>0.00000</td>\n",
       "    </tr>\n",
       "    <tr>\n",
       "      <th>2004-02-09</th>\n",
       "      <td>37.0</td>\n",
       "      <td>0.200000</td>\n",
       "      <td>10579.03</td>\n",
       "      <td>36.333333</td>\n",
       "      <td>0.211111</td>\n",
       "      <td>-1</td>\n",
       "      <td>1</td>\n",
       "      <td>0.012760</td>\n",
       "      <td>-0.01276</td>\n",
       "    </tr>\n",
       "  </tbody>\n",
       "</table>\n",
       "</div>"
      ],
      "text/plain": [
       "            debt  debt_preis  djia_preis  rolling_mean_debt  \\\n",
       "date                                                          \n",
       "2004-01-12  35.0    0.210000    10485.18                NaN   \n",
       "2004-01-19  36.0    0.210000    10528.66                NaN   \n",
       "2004-01-26  36.0    0.210000    10702.51                NaN   \n",
       "2004-02-02  37.0    0.213333    10499.18          35.666667   \n",
       "2004-02-09  37.0    0.200000    10579.03          36.333333   \n",
       "\n",
       "            rolling_mean_debt_preis  order  order_preis  log_returns  \\\n",
       "date                                                                   \n",
       "2004-01-12                      NaN      0            0     0.000000   \n",
       "2004-01-19                      NaN      0            0     0.000000   \n",
       "2004-01-26                      NaN      0            0     0.000000   \n",
       "2004-02-02                 0.210000      0           -1    -0.007577   \n",
       "2004-02-09                 0.211111     -1            1     0.012760   \n",
       "\n",
       "            log_returns_new_data  \n",
       "date                              \n",
       "2004-01-12               0.00000  \n",
       "2004-01-19               0.00000  \n",
       "2004-01-26               0.00000  \n",
       "2004-02-02               0.00000  \n",
       "2004-02-09              -0.01276  "
      ]
     },
     "execution_count": 91,
     "metadata": {},
     "output_type": "execute_result"
    }
   ],
   "source": [
    "# Compute log returns using djia and debt search volume from Preis et al.\n",
    "data['log_returns'] = data.order_preis * np.log(data.djia_preis.shift(-1)) - data.order_preis * np.log(data.djia_preis)\n",
    "\n",
    "# Compute log returns using S&P500.\n",
    "#data['log_returns_sp'] = data.order_preis * np.log(data.sp500.shift(-1)) - data.order_preis * np.log(data.sp500)\n",
    "\n",
    "# Compute log returns using debt search volume recently extracted from trends\n",
    "data['log_returns_new_data'] = data.order * np.log(data.djia_preis.shift(-1)) - data.order * np.log(data.djia_preis)\n",
    "data.head()"
   ]
  },
  {
   "cell_type": "code",
   "execution_count": 94,
   "metadata": {},
   "outputs": [
    {
     "data": {
      "image/png": "[encoded data removed]",
      "text/plain": [
       "<matplotlib.figure.Figure at 0x10f206588>"
      ]
     },
     "metadata": {},
     "output_type": "display_data"
    }
   ],
   "source": [
    "#plt.figure(num=None, figsize=(8, 6), dpi=80, facecolor='w', edgecolor='k')\n",
    "(np.exp(data.log_returns.cumsum()) - 1).plot();"
   ]
  },
  {
   "cell_type": "code",
   "execution_count": 81,
   "metadata": {},
   "outputs": [
    {
     "data": {
      "text/html": [
       "<img src=\"data:image/jpeg;base64,/9j/4AAQSkZJRgABAQEASABIAAD/7QAkUGhvdG9zaG9wIDMuMAA4QklNBAQAAAAAAAccAgAAAgAC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%0AICAgICAgICAgICAgIAogICAgICAgICAgICAgI%E2%80%A6%E2%80%A6\"/>"
      ],
      "text/plain": [
       "<IPython.core.display.Image object>"
      ]
     },
     "execution_count": 81,
     "metadata": {},
     "output_type": "execute_result"
    }
   ],
   "source": [
    "#from IPython.core.display import Image \n",
    "#Image(\"http://www.nature.com/srep/2013/130425/srep01684/carousel/srep01684-f2.jpg\")\n",
    "\n",
    "from IPython.display import Image\n",
    "from IPython.core.display import HTML \n",
    "Image(url=\"\")"
   ]
  },
  {
   "cell_type": "markdown",
   "metadata": {},
   "source": [
    "Pretty good replication (using same data).\n",
    "\n",
    "Lets see how well the strategy does on search volume data extracted more recently."
   ]
  },
  {
   "cell_type": "code",
   "execution_count": 95,
   "metadata": {},
   "outputs": [
    {
     "data": {
      "image/png": "[encoded data removed]",
      "text/plain": [
       "<matplotlib.figure.Figure at 0x112e865c0>"
      ]
     },
     "metadata": {},
     "output_type": "display_data"
    }
   ],
   "source": [
    "#plt.figsize(10, 3)\n",
    "(np.exp(data.log_returns_new_data.cumsum()) - 1).plot();"
   ]
  },
  {
   "cell_type": "markdown",
   "metadata": {},
   "source": [
    "Much worse. As seen before there is a qualitative difference between the search data used in Preis and the one that can be downloaded today. This might be expected since the signal is indeed degraded as you mentioned (only 72% of the order decisions match when comparing the two data sources).\n",
    "\n",
    "Finally, lets see how well the strategy (using the Preis signals) would do on S&P500."
   ]
  },
  {
   "cell_type": "code",
   "execution_count": 98,
   "metadata": {},
   "outputs": [],
   "source": [
    "#plt.figsize(10, 3)\n",
    "#(np.exp(data.log_returns_sp.cumsum()) - 1).plot();"
   ]
  },
  {
   "cell_type": "code",
   "execution_count": null,
   "metadata": {
    "collapsed": true
   },
   "outputs": [],
   "source": []
  }
 ],
 "metadata": {
  "kernelspec": {
   "display_name": "Python 3",
   "language": "python",
   "name": "python3"
  },
  "language_info": {
   "codemirror_mode": {
    "name": "ipython",
    "version": 3
   },
   "file_extension": ".py",
   "mimetype": "text/x-python",
   "name": "python",
   "nbconvert_exporter": "python",
   "pygments_lexer": "ipython3",
   "version": "3.6.1"
  }
 },
 "nbformat": 4,
 "nbformat_minor": 1
}
